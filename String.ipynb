{
 "cells": [
  {
   "cell_type": "markdown",
   "id": "1e242999",
   "metadata": {},
   "source": [
    "<h1><font size =10, font color ='red'> WELCOME TO DataRing ! </font><h1>\n",
    "<h1><font size =6, font color ='blue'> STRING </font><h1>"
   ]
  },
  {
   "cell_type": "code",
   "execution_count": 41,
   "id": "9941201e",
   "metadata": {},
   "outputs": [],
   "source": [
    "# String\n",
    "txt1=\"welcome to data ring\"\n",
    "\n",
    "txt0='welcome to data ring'"
   ]
  },
  {
   "cell_type": "code",
   "execution_count": 43,
   "id": "b136b588",
   "metadata": {},
   "outputs": [
    {
     "data": {
      "text/plain": [
       "str"
      ]
     },
     "execution_count": 43,
     "metadata": {},
     "output_type": "execute_result"
    }
   ],
   "source": [
    "type(txt1)"
   ]
  },
  {
   "cell_type": "code",
   "execution_count": 44,
   "id": "6ba7186f",
   "metadata": {},
   "outputs": [
    {
     "data": {
      "text/plain": [
       "str"
      ]
     },
     "execution_count": 44,
     "metadata": {},
     "output_type": "execute_result"
    }
   ],
   "source": [
    "type(txt0)"
   ]
  },
  {
   "cell_type": "code",
   "execution_count": 46,
   "id": "918a9b79",
   "metadata": {},
   "outputs": [
    {
     "data": {
      "text/plain": [
       "'welcome to data ring'"
      ]
     },
     "execution_count": 46,
     "metadata": {},
     "output_type": "execute_result"
    }
   ],
   "source": [
    "txt2=f'welcome to data ring'\n",
    "txt2"
   ]
  },
  {
   "cell_type": "code",
   "execution_count": 47,
   "id": "166c87ea",
   "metadata": {},
   "outputs": [
    {
     "data": {
      "text/plain": [
       "str"
      ]
     },
     "execution_count": 47,
     "metadata": {},
     "output_type": "execute_result"
    }
   ],
   "source": [
    "#type\n",
    "type(txt2)\n"
   ]
  },
  {
   "cell_type": "code",
   "execution_count": 48,
   "id": "7032394f",
   "metadata": {},
   "outputs": [
    {
     "data": {
      "text/plain": [
       "20"
      ]
     },
     "execution_count": 48,
     "metadata": {},
     "output_type": "execute_result"
    }
   ],
   "source": [
    "#length\n",
    "len(txt2)"
   ]
  },
  {
   "cell_type": "code",
   "execution_count": 54,
   "id": "44aea21f",
   "metadata": {},
   "outputs": [
    {
     "data": {
      "text/plain": [
       "4"
      ]
     },
     "execution_count": 54,
     "metadata": {},
     "output_type": "execute_result"
    }
   ],
   "source": [
    "#indexing\n",
    "h1=\"hey how are you\"\n",
    "\n",
    "h1.rindex('h')\n"
   ]
  },
  {
   "cell_type": "code",
   "execution_count": 55,
   "id": "8b2c56ce",
   "metadata": {},
   "outputs": [
    {
     "data": {
      "text/plain": [
       "'Hey we will learn about capitalize'"
      ]
     },
     "execution_count": 55,
     "metadata": {},
     "output_type": "execute_result"
    }
   ],
   "source": [
    "#capitalize\n",
    "txt3='hey we will learn about capitalize'\n",
    "txt3.capitalize()\n"
   ]
  },
  {
   "cell_type": "code",
   "execution_count": 57,
   "id": "fcf144c2",
   "metadata": {},
   "outputs": [
    {
     "data": {
      "text/plain": [
       "'Santanu Roy'"
      ]
     },
     "execution_count": 57,
     "metadata": {},
     "output_type": "execute_result"
    }
   ],
   "source": [
    "#title\n",
    "txt4='santanu roy'\n",
    "txt4.title()\n"
   ]
  },
  {
   "cell_type": "code",
   "execution_count": 62,
   "id": "30b18b31",
   "metadata": {},
   "outputs": [
    {
     "data": {
      "text/plain": [
       "'CHNAGE IT TO UPPER'"
      ]
     },
     "execution_count": 62,
     "metadata": {},
     "output_type": "execute_result"
    }
   ],
   "source": [
    "#upper\n",
    "\n",
    "txt6= 'cHnage it to upper'\n",
    "txt61=txt6.upper()\n",
    "txt61"
   ]
  },
  {
   "cell_type": "code",
   "execution_count": 63,
   "id": "be9698a0",
   "metadata": {},
   "outputs": [
    {
     "data": {
      "text/plain": [
       "False"
      ]
     },
     "execution_count": 63,
     "metadata": {},
     "output_type": "execute_result"
    }
   ],
   "source": [
    "#isupper\n",
    "txt6.isupper()"
   ]
  },
  {
   "cell_type": "code",
   "execution_count": 70,
   "id": "8fb8d936",
   "metadata": {},
   "outputs": [
    {
     "data": {
      "text/plain": [
       "'chnage it to lower'"
      ]
     },
     "execution_count": 70,
     "metadata": {},
     "output_type": "execute_result"
    }
   ],
   "source": [
    "#lower  #casefold\n",
    "txt62=\"CHNAGE IT TO LOWER\"\n",
    "txt63=txt62.lower()\n",
    "txt63"
   ]
  },
  {
   "cell_type": "code",
   "execution_count": 71,
   "id": "b902706e",
   "metadata": {},
   "outputs": [
    {
     "data": {
      "text/plain": [
       "True"
      ]
     },
     "execution_count": 71,
     "metadata": {},
     "output_type": "execute_result"
    }
   ],
   "source": [
    "#islower\n",
    "txt63.islower()"
   ]
  },
  {
   "cell_type": "code",
   "execution_count": 75,
   "id": "5b012712",
   "metadata": {},
   "outputs": [
    {
     "data": {
      "text/plain": [
       "'Hye How Are You'"
      ]
     },
     "execution_count": 75,
     "metadata": {},
     "output_type": "execute_result"
    }
   ],
   "source": [
    "#swapcase\n",
    "txt8='hYE hOW aRE yOU'\n",
    "txt8.swapcase()\n"
   ]
  },
  {
   "cell_type": "code",
   "execution_count": 78,
   "id": "538caa7f",
   "metadata": {},
   "outputs": [
    {
     "data": {
      "text/plain": [
       "True"
      ]
     },
     "execution_count": 78,
     "metadata": {},
     "output_type": "execute_result"
    }
   ],
   "source": [
    "#startswith\n",
    "txt10='Data Ring'\n",
    "txt10.startswith('D')"
   ]
  },
  {
   "cell_type": "code",
   "execution_count": 80,
   "id": "69bfb638",
   "metadata": {},
   "outputs": [
    {
     "data": {
      "text/plain": [
       "True"
      ]
     },
     "execution_count": 80,
     "metadata": {},
     "output_type": "execute_result"
    }
   ],
   "source": [
    "#endswith\n",
    "txt10.endswith('g')"
   ]
  },
  {
   "cell_type": "code",
   "execution_count": 86,
   "id": "01d03be3",
   "metadata": {},
   "outputs": [
    {
     "name": "stdout",
     "output_type": "stream",
     "text": [
      "welcome to data ring\n"
     ]
    },
    {
     "data": {
      "text/plain": [
       "14"
      ]
     },
     "execution_count": 86,
     "metadata": {},
     "output_type": "execute_result"
    }
   ],
   "source": [
    "#find\n",
    "print(txt0)\n",
    "txt0.rfind('a')\n"
   ]
  },
  {
   "cell_type": "code",
   "execution_count": 100,
   "id": "2ba7028b",
   "metadata": {},
   "outputs": [
    {
     "data": {
      "text/plain": [
       "False"
      ]
     },
     "execution_count": 100,
     "metadata": {},
     "output_type": "execute_result"
    }
   ],
   "source": [
    "#isalnum\n",
    "\n",
    "txt100=\"asjdbjhdhsdf sjkdj\"\n",
    "txt100.isalnum()\n"
   ]
  },
  {
   "cell_type": "code",
   "execution_count": 104,
   "id": "3e9e420c",
   "metadata": {},
   "outputs": [
    {
     "data": {
      "text/plain": [
       "False"
      ]
     },
     "execution_count": 104,
     "metadata": {},
     "output_type": "execute_result"
    }
   ],
   "source": [
    "#isalpha\n",
    "\n",
    "txt100=\"shhhsdsdd12\"\n",
    "txt100.isalpha()"
   ]
  },
  {
   "cell_type": "code",
   "execution_count": 106,
   "id": "d88ce7d6",
   "metadata": {},
   "outputs": [
    {
     "data": {
      "text/plain": [
       "True"
      ]
     },
     "execution_count": 106,
     "metadata": {},
     "output_type": "execute_result"
    }
   ],
   "source": [
    "#isascii\n",
    "txt100=\"shhhsdsdd12 \"\n",
    "txt100.isascii()"
   ]
  },
  {
   "cell_type": "code",
   "execution_count": 109,
   "id": "78982c61",
   "metadata": {},
   "outputs": [
    {
     "data": {
      "text/plain": [
       "False"
      ]
     },
     "execution_count": 109,
     "metadata": {},
     "output_type": "execute_result"
    }
   ],
   "source": [
    "#isdigits/#isnumeric\n",
    "\n",
    "txt101='1212111212'\n",
    "txt101.isdigit()\n",
    "txt100.isnumeric()"
   ]
  },
  {
   "cell_type": "code",
   "execution_count": 111,
   "id": "e153d9d7",
   "metadata": {},
   "outputs": [
    {
     "data": {
      "text/plain": [
       "True"
      ]
     },
     "execution_count": 111,
     "metadata": {},
     "output_type": "execute_result"
    }
   ],
   "source": [
    "#isdecimal\n",
    "txt101.isdecimal()"
   ]
  },
  {
   "cell_type": "code",
   "execution_count": 112,
   "id": "5070746d",
   "metadata": {},
   "outputs": [
    {
     "data": {
      "text/plain": [
       "True"
      ]
     },
     "execution_count": 112,
     "metadata": {},
     "output_type": "execute_result"
    }
   ],
   "source": [
    "#isprintable\n",
    "txt101.isprintable()"
   ]
  },
  {
   "cell_type": "code",
   "execution_count": 118,
   "id": "90db5830",
   "metadata": {},
   "outputs": [
    {
     "data": {
      "text/plain": [
       "'hi how are you'"
      ]
     },
     "execution_count": 118,
     "metadata": {},
     "output_type": "execute_result"
    }
   ],
   "source": [
    "#join\n",
    "\n",
    "l1=[\"hi\", 'how', 'are', 'you']\n",
    "txt1000=\" \".join(l1)\n",
    "txt1000"
   ]
  },
  {
   "cell_type": "code",
   "execution_count": 119,
   "id": "c9e4be16",
   "metadata": {},
   "outputs": [
    {
     "data": {
      "text/plain": [
       "'     Dataring     '"
      ]
     },
     "execution_count": 119,
     "metadata": {},
     "output_type": "execute_result"
    }
   ],
   "source": [
    "#lstrip\n",
    "txt10001= \"     Dataring     \"\n",
    "txt10001"
   ]
  },
  {
   "cell_type": "code",
   "execution_count": 120,
   "id": "5ee85386",
   "metadata": {},
   "outputs": [
    {
     "data": {
      "text/plain": [
       "'Dataring     '"
      ]
     },
     "execution_count": 120,
     "metadata": {},
     "output_type": "execute_result"
    }
   ],
   "source": [
    "txt10001.lstrip()"
   ]
  },
  {
   "cell_type": "code",
   "execution_count": 121,
   "id": "22651af7",
   "metadata": {},
   "outputs": [
    {
     "data": {
      "text/plain": [
       "'     Dataring'"
      ]
     },
     "execution_count": 121,
     "metadata": {},
     "output_type": "execute_result"
    }
   ],
   "source": [
    "#rstrip\n",
    "txt10001.rstrip()"
   ]
  },
  {
   "cell_type": "code",
   "execution_count": 122,
   "id": "6c745972",
   "metadata": {},
   "outputs": [
    {
     "data": {
      "text/plain": [
       "'Dataring'"
      ]
     },
     "execution_count": 122,
     "metadata": {},
     "output_type": "execute_result"
    }
   ],
   "source": [
    "#strip\n",
    "txt10001.strip()"
   ]
  },
  {
   "cell_type": "code",
   "execution_count": 123,
   "id": "636c4546",
   "metadata": {},
   "outputs": [],
   "source": [
    "txt10001= \"xxxxxxDataringxxxx\""
   ]
  },
  {
   "cell_type": "code",
   "execution_count": 124,
   "id": "61a1ab0a",
   "metadata": {},
   "outputs": [
    {
     "data": {
      "text/plain": [
       "'Dataring'"
      ]
     },
     "execution_count": 124,
     "metadata": {},
     "output_type": "execute_result"
    }
   ],
   "source": [
    "txt10001.strip('x')"
   ]
  },
  {
   "cell_type": "code",
   "execution_count": 133,
   "id": "cbf03f99",
   "metadata": {},
   "outputs": [
    {
     "data": {
      "text/plain": [
       "'Hi_welcome_to_DataRing'"
      ]
     },
     "execution_count": 133,
     "metadata": {},
     "output_type": "execute_result"
    }
   ],
   "source": [
    "#replace\n",
    "\n",
    "r100=\"Hi_welcome_to_xyz\"\n",
    "r100=r100.replace(\"xyz\", 'DataRing')\n",
    "r100"
   ]
  },
  {
   "cell_type": "code",
   "execution_count": 135,
   "id": "2ada7bea",
   "metadata": {},
   "outputs": [
    {
     "data": {
      "text/plain": [
       "['Hi', 'welcome', 'to', 'DataRing']"
      ]
     },
     "execution_count": 135,
     "metadata": {},
     "output_type": "execute_result"
    }
   ],
   "source": [
    "#split\n",
    "r100.split('_')# \" \""
   ]
  },
  {
   "cell_type": "code",
   "execution_count": 150,
   "id": "57f084d5",
   "metadata": {},
   "outputs": [
    {
     "data": {
      "text/plain": [
       "9"
      ]
     },
     "execution_count": 150,
     "metadata": {},
     "output_type": "execute_result"
    }
   ],
   "source": [
    "#zfill\n",
    "c=\"a\".zfill(9)\n",
    "len(c)"
   ]
  },
  {
   "cell_type": "code",
   "execution_count": 154,
   "id": "8c0348cb",
   "metadata": {},
   "outputs": [
    {
     "data": {
      "text/plain": [
       "'                                              DataRing                                              '"
      ]
     },
     "execution_count": 154,
     "metadata": {},
     "output_type": "execute_result"
    }
   ],
   "source": [
    "#center\n",
    "'DataRing'.center(100)"
   ]
  },
  {
   "cell_type": "code",
   "execution_count": null,
   "id": "d3e919f3",
   "metadata": {},
   "outputs": [],
   "source": []
  }
 ],
 "metadata": {
  "kernelspec": {
   "display_name": "Python 3 (ipykernel)",
   "language": "python",
   "name": "python3"
  },
  "language_info": {
   "codemirror_mode": {
    "name": "ipython",
    "version": 3
   },
   "file_extension": ".py",
   "mimetype": "text/x-python",
   "name": "python",
   "nbconvert_exporter": "python",
   "pygments_lexer": "ipython3",
   "version": "3.9.13"
  }
 },
 "nbformat": 4,
 "nbformat_minor": 5
}
